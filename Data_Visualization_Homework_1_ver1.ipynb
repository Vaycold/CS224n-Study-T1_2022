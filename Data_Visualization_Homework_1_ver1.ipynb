{
  "nbformat": 4,
  "nbformat_minor": 0,
  "metadata": {
    "colab": {
      "provenance": [],
      "include_colab_link": true
    },
    "kernelspec": {
      "name": "python3",
      "display_name": "Python 3"
    },
    "language_info": {
      "name": "python"
    }
  },
  "cells": [
    {
      "cell_type": "markdown",
      "metadata": {
        "id": "view-in-github",
        "colab_type": "text"
      },
      "source": [
        "<a href=\"https://colab.research.google.com/github/Vaycold/CS224n-Study-T1_2022/blob/main/Data_Visualization_Homework_1_ver1.ipynb\" target=\"_parent\"><img src=\"https://colab.research.google.com/assets/colab-badge.svg\" alt=\"Open In Colab\"/></a>"
      ]
    },
    {
      "cell_type": "code",
      "metadata": {
        "id": "4fqV-2lYJvJj"
      },
      "source": [
        "####################################################\n",
        "## Coding Homework - 1\n",
        "## Jongwon Choi\n",
        "## GSAIM, Chung-Ang University\n",
        "## choijw@cau.ac.kr\n",
        "####################################################\n",
        "\n",
        "import numpy as np\n",
        "import matplotlib.pyplot as plt"
      ],
      "execution_count": null,
      "outputs": []
    },
    {
      "cell_type": "code",
      "metadata": {
        "id": "zMzmwORsKGaV"
      },
      "source": [
        "### Problem 1. Discretization\n",
        "NUM_CLUSTER = 4\n",
        "x, y = np.load('problem1.npy')\n",
        "interval_values = list(range(NUM_CLUSTER-1))\n",
        "\n",
        "### Problem 1-A. Implement the uniform discretization\n",
        "\n",
        "####### BLANK #######\n",
        "\n",
        "#####################\n",
        "\n",
        "print(interval_values)\n",
        "labels = np.sum(np.reshape(x, [-1,1]) > np.reshape(interval_values, [1,-1]), axis=1)\n",
        "\n",
        "### Plot...\n",
        "plt.clf()\n",
        "colors = ['r', 'g', 'b', 'c']\n",
        "for i in range(4):\n",
        "  plt.scatter(x[labels==i],y[labels==i], color=colors[i])\n",
        "for i in range(3):  \n",
        "  plt.plot([interval_values[i], interval_values[i]], [-10, 10], color=colors[i])\n",
        "plt.plot()\n",
        "\n",
        "plt.xlabel(\"x axis\")\n",
        "plt.ylabel(\"y axis\")\n",
        "plt.title(\"Uniform Discretzation Result\")\n",
        "plt.show()"
      ],
      "execution_count": null,
      "outputs": []
    },
    {
      "cell_type": "code",
      "metadata": {
        "id": "NCisW2dVomgt"
      },
      "source": [
        "### Problem 1-B. Implement the K-Means clustering-based discretization\n",
        "from sklearn.cluster import KMeans\n",
        "\n",
        "####### BLANK #######\n",
        "\n",
        "#####################\n",
        "\n",
        "print(interval_values)\n",
        "labels = np.sum(np.reshape(x, [-1,1]) > np.reshape(interval_values, [1,-1]), axis=1)\n",
        "\n",
        "### Plot...\n",
        "plt.clf()\n",
        "colors = ['r', 'g', 'b', 'c']\n",
        "for i in range(4):\n",
        "  plt.scatter(x[labels==i],y[labels==i], color=colors[i])\n",
        "for i in range(3):  \n",
        "  plt.plot([interval_values[i], interval_values[i]], [-10, 10], color=colors[i])\n",
        "plt.plot()\n",
        "\n",
        "plt.xlabel(\"x axis\")\n",
        "plt.ylabel(\"y axis\")\n",
        "plt.title(\"K-Means Discretzation Result\")\n",
        "plt.show()"
      ],
      "execution_count": null,
      "outputs": []
    },
    {
      "cell_type": "code",
      "metadata": {
        "id": "WONmCEK8l9jd"
      },
      "source": [
        "### Problem 2. Various Distribution\n",
        "x, y = np.load('problem2.npy')\n",
        "\n",
        "### Plot...\n",
        "plt.clf()\n",
        "plt.scatter(x,y)\n",
        "plt.plot()\n",
        "\n",
        "plt.xlabel(\"x axis\")\n",
        "plt.ylabel(\"y axis\")\n",
        "plt.title(\"Linear Discretzation Result\")\n",
        "plt.show()\n",
        "\n"
      ],
      "execution_count": null,
      "outputs": []
    },
    {
      "cell_type": "code",
      "metadata": {
        "id": "rbF_xXRKmeKh"
      },
      "source": [
        "### Problem 2-A. Find the best distribution and its parameters for x position\n",
        "from scipy.stats import uniform as target_stat #Uniform distribution\n",
        "#from scipy.stats import norm as target_stat #Gaussian distribution\n",
        "#from scipy.stats import poisson as target_stat #Poisson distribution\n",
        "#from scipy.stats import lognorm as target_stat #Log-Normal distribution\n",
        "#from scipy.stats import gamma as target_stat #Gamma distribution\n",
        "#from scipy.stats import expon as target_stat #Exponential distribution\n",
        "\n",
        "x_edges = np.linspace(min(x), max(x), 100)\n",
        "x_bins = (x_edges[1:] + x_edges[:-1])/2\n",
        "freq,_ = np.histogram(x, bins=x_edges)\n",
        "normalized_freq = freq / np.sum(freq)\n",
        "\n",
        "####### BLANK #######\n",
        "pdf = target_stat.pdf(x_bins, loc=min(x), scale=max(x)-min(x)) # Example. Remove it!\n",
        "#####################\n",
        "\n",
        "plt.clf()\n",
        "plt.plot(x_bins, normalized_freq)\n",
        "plt.plot(x_bins, pdf, 'r-', lw=5, alpha=0.6)\n",
        "plt.show()"
      ],
      "execution_count": null,
      "outputs": []
    },
    {
      "cell_type": "code",
      "metadata": {
        "id": "oDtQjtHgplDc"
      },
      "source": [
        "### Problem 2-B. Find the best distribution and its parameters\n",
        "# for the longest distance of every 10 consecutive samples\n",
        "\n",
        "from scipy.stats import uniform as target_stat #Uniform distribution\n",
        "#from scipy.stats import norm as target_stat #Gaussian distribution\n",
        "#from scipy.stats import poisson as target_stat #Poisson distribution\n",
        "#from scipy.stats import lognorm as target_stat #Log-Normal distribution\n",
        "#from scipy.stats import gamma as target_stat #Gamma distribution\n",
        "#from scipy.stats import expon as target_stat #Exponential distribution\n",
        "\n",
        "####### BLANK #######\n",
        "pdf = target_stat.pdf(x_bins, loc=min(x), scale=max(x)-min(x)) # Example. Remove it!\n",
        "#####################\n",
        "\n",
        "plt.clf()\n",
        "plt.plot(d_bins[:-1], normalized_freq)\n",
        "plt.plot(d_bins, pdf, 'r-', lw=5, alpha=0.6)\n",
        "plt.show()"
      ],
      "execution_count": null,
      "outputs": []
    },
    {
      "cell_type": "code",
      "metadata": {
        "id": "HijAaMMiypXw"
      },
      "source": [],
      "execution_count": null,
      "outputs": []
    }
  ]
}